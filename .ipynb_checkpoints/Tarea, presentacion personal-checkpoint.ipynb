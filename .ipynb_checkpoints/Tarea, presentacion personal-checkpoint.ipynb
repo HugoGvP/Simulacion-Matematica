{
 "cells": [
  {
   "cell_type": "markdown",
   "id": "555dcb29",
   "metadata": {},
   "source": [
    "<img style=\"float: left; margin: 30px 15px 15px 15px;\" src=\"https://pngimage.net/wp-content/uploads/2018/06/logo-iteso-png-5.png\" width=\"300\" height=\"500\" /> \n",
    "    \n",
    "    \n",
    "### <font color='navy'> Simulación Matématica. \n",
    "\n",
    "**Nombre:** Hugo Gabriel Velarde Pérez.\n",
    "    \n",
    "**Fecha:** 23 de Enero del 2022.\n",
    "\n",
    "**Expediente** : IF730799\n",
    "\n",
    "\n",
    "    \n",
    "   \n",
    "**Profesor:** G Alejandro Morales Ruiz.\n",
    "\n",
    "\n",
    "\n",
    "### Tarea 1\n",
    "#### Clase 1\n",
    "\n"
   ]
  },
  {
   "cell_type": "markdown",
   "id": "c9a53c11",
   "metadata": {},
   "source": [
    "# <font color='red'> Quién soy\n",
    "    \n",
    "Me llamo Hugo Gabriel Velarde Pérez, me pueden llamar Hugo, soy estudiante de la carrera de Ingenieria Financiera y actualmente este es mi cuarto semestre, deberia de ir en mi sexto/septimo semestre pero al inicio de la pandemia me di de baja un año o lo que seria 2 semestres.\n",
    "Algunos de mis hobbies son:\n",
    "1. Hacer ejercicio\n",
    "2. Escuchar musica\n",
    "3. Ver series o peliculas\n",
    "4. Me gusta cocinar\n",
    "5. Salir con mis amigos\n",
    "    "
   ]
  },
  {
   "cell_type": "markdown",
   "id": "7cd451cf",
   "metadata": {},
   "source": [
    "### <font color='orchid'> Portafolios de inversión\n",
    "    \n",
    "Sinceremante no hay tema que me guste mucho aun, pero uno de los que conozco y si me interesa algo, son los portafolios de inversión, es la manera en la que podemos ayudar a alguien a diversificar su inversion, porque lo recomendado es no solo tener todo tu dinero en un solo activo, es a partir de esta necesidad los portafolios de inverison, un lugar en donde tengas todas tus inversiones a la mano, el chiste de toda esta diversificacion es que si alguno de ellos fallan (baja el precio de la accion) puedes todavia obtener ganancias de las demas.\n",
    "    \n",
    "    \n",
    "<img style=\"float: margin: 30px 15px 15px 15px;\" src=\"https://th.bing.com/th/id/OIP.Hg1gz8E00B92Tlbvff4y-gHaEn?pid=ImgDet&rs=1\" width=\"300\" height=\"500\" /> "
   ]
  },
  {
   "cell_type": "code",
   "execution_count": null,
   "id": "ebc9b172",
   "metadata": {},
   "outputs": [],
   "source": []
  }
 ],
 "metadata": {
  "kernelspec": {
   "display_name": "Python 3 (ipykernel)",
   "language": "python",
   "name": "python3"
  },
  "language_info": {
   "codemirror_mode": {
    "name": "ipython",
    "version": 3
   },
   "file_extension": ".py",
   "mimetype": "text/x-python",
   "name": "python",
   "nbconvert_exporter": "python",
   "pygments_lexer": "ipython3",
   "version": "3.9.7"
  }
 },
 "nbformat": 4,
 "nbformat_minor": 5
}
