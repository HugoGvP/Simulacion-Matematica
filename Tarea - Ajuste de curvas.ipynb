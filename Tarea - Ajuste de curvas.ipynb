{
 "cells": [
  {
   "cell_type": "markdown",
   "metadata": {},
   "source": [
    "# Tarea - Ajuste de curvas"
   ]
  },
  {
   "cell_type": "markdown",
   "metadata": {},
   "source": [
    "<img style=\"float: left; margin: 30px 15px 15px 15px;\" src=\"https://pngimage.net/wp-content/uploads/2018/06/logo-iteso-png-5.png\" width=\"300\" height=\"500\" /> \n",
    "    \n",
    "    \n",
    "### <font color='navy'> Simulación Matématica. \n",
    "\n",
    "**Nombre:** Hugo Gabriel Velarde Pérez.\n",
    "    \n",
    "**Fecha:** 27 de Febrero del 2022.\n",
    "\n",
    "**Expediente** : IF730799\n",
    "\n",
    "\n",
    "    \n",
    "   \n",
    "**Profesor:** Gabriel Alejandro Morales Ruiz.\n",
    "\n",
    "\n"
   ]
  },
  {
   "cell_type": "code",
   "execution_count": 1,
   "metadata": {},
   "outputs": [],
   "source": [
    "import numpy as np\n",
    "import pandas as pd\n",
    "import matplotlib.pyplot as plt\n",
    "import scipy.optimize as opt\n"
   ]
  },
  {
   "cell_type": "markdown",
   "metadata": {},
   "source": [
    "---\n",
    "### Problema 1\n",
    "\n",
    "Los siguientes datos representan el costo en dólares de la electricidad según Western Electricity Coordinating Council desde el 2014 (y su pronóstico para el 2040)\n",
    "\n",
    "Tomado de:\n",
    "https://www.quandl.com/data/EIA/AEO_2016_REF_NO_CPP_PRCE_NA_COMM_NA_ELC_NA_WECCRKS_NCNTPKWH_A-Electricity-End-Use-Prices-Commercial-Western-Electricity-Coordinating-Council-Rockies-No-CPP-AEO2016"
   ]
  },
  {
   "cell_type": "code",
   "execution_count": 2,
   "metadata": {},
   "outputs": [],
   "source": [
    "# Datos extraidos de la página de quandl\n",
    "data = np.array([10.051101,  9.259127,  9.444813,  9.557723,  9.977324, 10.298326,\n",
    "       10.447217, 10.550506, 10.590784, 10.657418, 10.743085, 10.831965,\n",
    "       10.988435, 11.153055, 11.313326, 11.557165, 11.860136, 12.122511,\n",
    "       12.356448, 12.611391, 12.814569, 13.111372, 13.357134, 13.559012,\n",
    "       13.85861 , 14.135924, 14.436149])"
   ]
  },
  {
   "cell_type": "code",
   "execution_count": 3,
   "metadata": {
    "scrolled": true
   },
   "outputs": [
    {
     "data": {
      "text/html": [
       "<div>\n",
       "<style scoped>\n",
       "    .dataframe tbody tr th:only-of-type {\n",
       "        vertical-align: middle;\n",
       "    }\n",
       "\n",
       "    .dataframe tbody tr th {\n",
       "        vertical-align: top;\n",
       "    }\n",
       "\n",
       "    .dataframe thead th {\n",
       "        text-align: right;\n",
       "    }\n",
       "</style>\n",
       "<table border=\"1\" class=\"dataframe\">\n",
       "  <thead>\n",
       "    <tr style=\"text-align: right;\">\n",
       "      <th></th>\n",
       "      <th>Año</th>\n",
       "      <th>Costo electricidad</th>\n",
       "    </tr>\n",
       "  </thead>\n",
       "  <tbody>\n",
       "    <tr>\n",
       "      <th>0</th>\n",
       "      <td>1</td>\n",
       "      <td>10.051101</td>\n",
       "    </tr>\n",
       "    <tr>\n",
       "      <th>1</th>\n",
       "      <td>2</td>\n",
       "      <td>9.259127</td>\n",
       "    </tr>\n",
       "    <tr>\n",
       "      <th>2</th>\n",
       "      <td>3</td>\n",
       "      <td>9.444813</td>\n",
       "    </tr>\n",
       "    <tr>\n",
       "      <th>3</th>\n",
       "      <td>4</td>\n",
       "      <td>9.557723</td>\n",
       "    </tr>\n",
       "    <tr>\n",
       "      <th>4</th>\n",
       "      <td>5</td>\n",
       "      <td>9.977324</td>\n",
       "    </tr>\n",
       "  </tbody>\n",
       "</table>\n",
       "</div>"
      ],
      "text/plain": [
       "   Año  Costo electricidad\n",
       "0    1           10.051101\n",
       "1    2            9.259127\n",
       "2    3            9.444813\n",
       "3    4            9.557723\n",
       "4    5            9.977324"
      ]
     },
     "execution_count": 3,
     "metadata": {},
     "output_type": "execute_result"
    }
   ],
   "source": [
    "i = np.arange(27)\n",
    "\n",
    "df = pd.DataFrame(index=i,columns=['Año', 'Costo electricidad'])\n",
    "\n",
    "df['Año'] = [1, 2, 3, 4, 5, 6, 7, 8, 9, 10, 11, 12, 13, 14, 15, 16, 17, 18, 19, 20, 21, 22, 23, 24, 25, 26, 27]\n",
    "df['Costo electricidad'] = [10.051101,  9.259127,  9.444813,  9.557723,  9.977324, 10.298326,\n",
    "       10.447217, 10.550506, 10.590784, 10.657418, 10.743085, 10.831965,\n",
    "       10.988435, 11.153055, 11.313326, 11.557165, 11.860136, 12.122511,\n",
    "       12.356448, 12.611391, 12.814569, 13.111372, 13.357134, 13.559012,\n",
    "       13.85861 , 14.135924, 14.436149]\n",
    "df.head(5)"
   ]
  },
  {
   "cell_type": "code",
   "execution_count": 4,
   "metadata": {},
   "outputs": [
    {
     "data": {
      "text/plain": [
       "9.259127"
      ]
     },
     "execution_count": 4,
     "metadata": {},
     "output_type": "execute_result"
    }
   ],
   "source": [
    "df[\"Costo electricidad\"].min()"
   ]
  },
  {
   "cell_type": "code",
   "execution_count": 5,
   "metadata": {},
   "outputs": [
    {
     "data": {
      "image/png": "[encoded data removed]",
      "text/plain": [
       "<Figure size 432x288 with 1 Axes>"
      ]
     },
     "metadata": {
      "needs_background": "light"
     },
     "output_type": "display_data"
    }
   ],
   "source": [
    "x = df[\"Año\"]\n",
    "y = df[\"Costo electricidad\"]\n",
    "plt.figure()\n",
    "plt.scatter(x, y, s=30)\n",
    "plt.grid()"
   ]
  },
  {
   "cell_type": "code",
   "execution_count": 6,
   "metadata": {},
   "outputs": [
    {
     "data": {
      "text/plain": [
       "(27,)"
      ]
     },
     "execution_count": 6,
     "metadata": {},
     "output_type": "execute_result"
    }
   ],
   "source": [
    "data.shape"
   ]
  },
  {
   "cell_type": "code",
   "execution_count": 7,
   "metadata": {},
   "outputs": [
    {
     "data": {
      "text/plain": [
       "      fun: 2.370488951814611\n",
       " hess_inv: array([[ 0.07834758, -0.0042735 ],\n",
       "       [-0.0042735 ,  0.00030525]])\n",
       "      jac: array([-6.02006912e-06,  1.19209290e-07])\n",
       "  message: 'Optimization terminated successfully.'\n",
       "     nfev: 15\n",
       "      nit: 3\n",
       "     njev: 5\n",
       "   status: 0\n",
       "  success: True\n",
       "        x: array([8.92900535, 0.18667058])"
      ]
     },
     "execution_count": 7,
     "metadata": {},
     "output_type": "execute_result"
    }
   ],
   "source": [
    "def funcion_de_costo_1(theta, x, y):\n",
    "    prediccion = (theta[0] + theta[1]*x)\n",
    "    error = y - prediccion\n",
    "    error_2 = error**2\n",
    "    return np.sum(error_2)\n",
    "\n",
    "theta_inicial_1 = np.random.rand(2)\n",
    "sol = opt.minimize(funcion_de_costo_1,\n",
    "                  theta_inicial_1,\n",
    "                  args=(x, y)) \n",
    "#los argumentos son los que estan des:pues de theta en la funcion de costo\n",
    "\n",
    "costo_1 = sol.fun\n",
    "resultados_1 = sol.x\n",
    "sol"
   ]
  },
  {
   "cell_type": "code",
   "execution_count": 8,
   "metadata": {},
   "outputs": [
    {
     "data": {
      "text/plain": [
       "      fun: 0.8443845212483811\n",
       " hess_inv: array([[ 1.94416499e-01, -2.82636937e-02,  8.56463859e-04],\n",
       "       [-2.82636937e-02,  5.26520832e-03, -1.77093192e-04],\n",
       "       [ 8.56463859e-04, -1.77093192e-04,  6.32330717e-06]])\n",
       "      jac: array([4.69386578e-06, 7.80597329e-05, 1.72143430e-03])\n",
       "  message: 'Desired error not necessarily achieved due to precision loss.'\n",
       "     nfev: 228\n",
       "      nit: 8\n",
       "     njev: 54\n",
       "   status: 2\n",
       "  success: False\n",
       "        x: array([9.52314643e+00, 6.37449197e-02, 4.39020129e-03])"
      ]
     },
     "execution_count": 8,
     "metadata": {},
     "output_type": "execute_result"
    }
   ],
   "source": [
    "def funcion_de_costo_2(theta, x, y):\n",
    "    prediccion = (theta[0] + theta[1]*x + theta[2]*x**2)\n",
    "    error = y - prediccion\n",
    "    error_2 = error**2\n",
    "    return np.sum(error_2)\n",
    "\n",
    "theta_inicial_2 = np.random.rand(3)\n",
    "sol = opt.minimize(funcion_de_costo_2,\n",
    "                  theta_inicial_2,\n",
    "                  args=(x, y)) \n",
    "#los argumentos son los que estan despues de theta en la funcion de costo\n",
    "\n",
    "costo_2 = sol.fun\n",
    "resultados_2 = sol.x\n",
    "sol"
   ]
  },
  {
   "cell_type": "code",
   "execution_count": 9,
   "metadata": {},
   "outputs": [
    {
     "data": {
      "text/plain": [
       "      fun: 0.8404493234033887\n",
       " hess_inv: array([[ 3.96856557e-01, -1.07903549e-01,  7.84071039e-03,\n",
       "        -1.66308241e-04],\n",
       "       [-1.07903549e-01,  3.65835347e-02, -2.92318360e-03,\n",
       "         6.53836529e-05],\n",
       "       [ 7.84071039e-03, -2.92318360e-03,  2.47091950e-04,\n",
       "        -5.73241133e-06],\n",
       "       [-1.66308241e-04,  6.53836529e-05, -5.73241133e-06,\n",
       "         1.36478930e-07]])\n",
       "      jac: array([-3.61889601e-04, -6.37598336e-04,  5.41880727e-05,  3.52509320e-04])\n",
       "  message: 'Desired error not necessarily achieved due to precision loss.'\n",
       "     nfev: 227\n",
       "      nit: 6\n",
       "     njev: 43\n",
       "   status: 2\n",
       "  success: False\n",
       "        x: array([9.48685118e+00, 7.80049486e-02, 3.14024913e-03, 2.97560686e-05])"
      ]
     },
     "execution_count": 9,
     "metadata": {},
     "output_type": "execute_result"
    }
   ],
   "source": [
    "def funcion_de_costo_3(theta, x, y):\n",
    "    prediccion = (theta[0] + theta[1]*x + theta[2]*x**2 + theta[3]*x**3)\n",
    "    error = y - prediccion\n",
    "    error_2 = error**2\n",
    "    return np.sum(error_2)\n",
    "\n",
    "theta_inicial_3 = np.random.rand(4)\n",
    "sol = opt.minimize(funcion_de_costo_3,\n",
    "                  theta_inicial_3,\n",
    "                  args=(x, y)) \n",
    "#los argumentos son los que estan despues de theta en la funcion de costo\n",
    "\n",
    "costo_3 = sol.fun\n",
    "resultados_3 = sol.x\n",
    "sol"
   ]
  },
  {
   "cell_type": "code",
   "execution_count": 10,
   "metadata": {},
   "outputs": [
    {
     "data": {
      "text/plain": [
       "<matplotlib.legend.Legend at 0x1c7bea35820>"
      ]
     },
     "execution_count": 10,
     "metadata": {},
     "output_type": "execute_result"
    },
    {
     "data": {
      "image/png": "[encoded data removed]",
      "text/plain": [
       "<Figure size 432x288 with 1 Axes>"
      ]
     },
     "metadata": {
      "needs_background": "light"
     },
     "output_type": "display_data"
    }
   ],
   "source": [
    "xn = np.linspace(1, 30, 200)\n",
    "yn1 = resultados_1[0]  + resultados_1[1]*xn\n",
    "yn2 = resultados_2[0]  + resultados_2[1]*xn + resultados_2[2]*xn**2\n",
    "yn3 = resultados_3[0]  + resultados_3[1]*xn + resultados_3[2]*xn**2 + resultados_3[3]*xn**3\n",
    "\n",
    "import matplotlib.pyplot as plt\n",
    "plt.figure()\n",
    "#plt.scatter(x, y, s=5)\n",
    "plt.plot(xn, yn1, label=\"linear\")\n",
    "plt.plot(xn, yn2, label=\"Cuadrada\")\n",
    "plt.plot(xn, yn3, label=\"cubica\")\n",
    "plt.legend(loc=\"best\")"
   ]
  },
  {
   "cell_type": "markdown",
   "metadata": {},
   "source": [
    "1. Ajuste estos datos a polinomios de grado 1 hasta 3 (los datos en $x$ corresponden a los años de 2014 a 2040, sin embargo son valores muy grandes para elevarlos a una potencia, use una representación para estos años, por ejemplo $2014 \\rightarrow 0$ y $2040\\rightarrow 26$).\n",
    "\n",
    "2. Muestre las tres curvas ajustadas junto a los datos de los costos en un solo gráfico"
   ]
  },
  {
   "cell_type": "markdown",
   "metadata": {},
   "source": [
    "---"
   ]
  },
  {
   "cell_type": "markdown",
   "metadata": {},
   "source": [
    "___\n",
    "### Problema 2\n",
    "\n",
    "El archivo `population_data.csv` contiene información histórica anual de México relativa a la población, nacimientos y muertes desde el año 1950 hasta el año 2015. La primer columna corresponde a los años, la segunda a la población, la tercera a los nacimientos y la última a los decesos.\n",
    "\n",
    "Tomado de: https://en.wikipedia.org/wiki/Demographics_of_Mexico.\n",
    "\n",
    "Importe estos datos usando la función `read_csv` del paquete `pandas`\n",
    "\n",
    "1. Usando los años como variable independiente $x$ y la población como variable dependiente $y$, ajustar polinomios de grado 1 hasta grado 3.\n",
    "\n",
    "    * Mostrar en un solo gráfico los datos de población contra los años, y los polinomios ajustados.\n",
    "\n",
    "    * Graficar el error cuadrático acumulado contra el número de términos.\n",
    "\n",
    "2. Repetir el punto 1 usando los nacimientos como variable dependiente $y$. Grafique las curvas ajustadas junto con los datos de nacimientos. Vea en un gráfico el error acumulado."
   ]
  },
  {
   "cell_type": "code",
   "execution_count": 11,
   "metadata": {
    "scrolled": false
   },
   "outputs": [
    {
     "data": {
      "text/html": [
       "<div>\n",
       "<style scoped>\n",
       "    .dataframe tbody tr th:only-of-type {\n",
       "        vertical-align: middle;\n",
       "    }\n",
       "\n",
       "    .dataframe tbody tr th {\n",
       "        vertical-align: top;\n",
       "    }\n",
       "\n",
       "    .dataframe thead th {\n",
       "        text-align: right;\n",
       "    }\n",
       "</style>\n",
       "<table border=\"1\" class=\"dataframe\">\n",
       "  <thead>\n",
       "    <tr style=\"text-align: right;\">\n",
       "      <th></th>\n",
       "      <th>Year</th>\n",
       "      <th>Poblacion</th>\n",
       "      <th>Nacimientos</th>\n",
       "      <th>Decesos</th>\n",
       "    </tr>\n",
       "  </thead>\n",
       "  <tbody>\n",
       "    <tr>\n",
       "      <th>0</th>\n",
       "      <td>1950</td>\n",
       "      <td>28296</td>\n",
       "      <td>1174947</td>\n",
       "      <td>418430</td>\n",
       "    </tr>\n",
       "    <tr>\n",
       "      <th>1</th>\n",
       "      <td>1951</td>\n",
       "      <td>29110</td>\n",
       "      <td>1183788</td>\n",
       "      <td>458238</td>\n",
       "    </tr>\n",
       "    <tr>\n",
       "      <th>2</th>\n",
       "      <td>1952</td>\n",
       "      <td>29980</td>\n",
       "      <td>1195209</td>\n",
       "      <td>408823</td>\n",
       "    </tr>\n",
       "    <tr>\n",
       "      <th>3</th>\n",
       "      <td>1953</td>\n",
       "      <td>30904</td>\n",
       "      <td>1261775</td>\n",
       "      <td>446127</td>\n",
       "    </tr>\n",
       "    <tr>\n",
       "      <th>4</th>\n",
       "      <td>1954</td>\n",
       "      <td>31880</td>\n",
       "      <td>1339837</td>\n",
       "      <td>378752</td>\n",
       "    </tr>\n",
       "  </tbody>\n",
       "</table>\n",
       "</div>"
      ],
      "text/plain": [
       "   Year  Poblacion  Nacimientos  Decesos\n",
       "0  1950      28296      1174947   418430\n",
       "1  1951      29110      1183788   458238\n",
       "2  1952      29980      1195209   408823\n",
       "3  1953      30904      1261775   446127\n",
       "4  1954      31880      1339837   378752"
      ]
     },
     "execution_count": 11,
     "metadata": {},
     "output_type": "execute_result"
    }
   ],
   "source": [
    "data = pd.read_csv('population_data.csv')\n",
    "data.head()"
   ]
  },
  {
   "cell_type": "code",
   "execution_count": 21,
   "metadata": {},
   "outputs": [
    {
     "data": {
      "image/png": "[encoded data removed]",
      "text/plain": [
       "<Figure size 432x288 with 1 Axes>"
      ]
     },
     "metadata": {
      "needs_background": "light"
     },
     "output_type": "display_data"
    }
   ],
   "source": [
    "x = data[\"Year\"] - 1950\n",
    "y = data[\"Poblacion\"]\n",
    "plt.figure()\n",
    "plt.scatter(x, y, s=5)\n",
    "plt.grid()\n",
    "\n",
    "# modelo = a*sin(x) + b*ln(x) + c*e^x + d*x^4 + e"
   ]
  },
  {
   "cell_type": "code",
   "execution_count": 29,
   "metadata": {},
   "outputs": [
    {
     "data": {
      "text/plain": [
       "      fun: 212137169.5467449\n",
       " hess_inv: array([[ 1.52651453e-02, -3.52406036e-04],\n",
       "       [-3.52406036e-04,  1.34782871e-05]])\n",
       "      jac: array([0., 0.])\n",
       "  message: 'Optimization terminated successfully.'\n",
       "     nfev: 84\n",
       "      nit: 8\n",
       "     njev: 28\n",
       "   status: 0\n",
       "  success: True\n",
       "        x: array([24138.02791836,  1543.97312894])"
      ]
     },
     "execution_count": 29,
     "metadata": {},
     "output_type": "execute_result"
    }
   ],
   "source": [
    "def funcion_de_poblacion_1(theta, x, y):\n",
    "    prediccion = (theta[0] + theta[1]*x)\n",
    "    error = y - prediccion\n",
    "    error_2 = error**2\n",
    "    return np.sum(error_2)\n",
    "\n",
    "theta_inicial_1 = np.random.rand(2)\n",
    "sol = opt.minimize(funcion_de_poblacion_1,\n",
    "                  theta_inicial_1,\n",
    "                  args=(x, y)) \n",
    "#los argumentos son los que estan des:pues de theta en la funcion de costo\n",
    "\n",
    "costo_1 = sol.fun\n",
    "resultados_1 = sol.x\n",
    "sol"
   ]
  },
  {
   "cell_type": "code",
   "execution_count": 23,
   "metadata": {},
   "outputs": [
    {
     "data": {
      "text/plain": [
       "      fun: 210941621.46125606\n",
       " hess_inv: array([[ 1.67603941e-01, -1.11915575e-02,  1.48451364e-04],\n",
       "       [-1.11915575e-02,  8.41904980e-04, -1.17179404e-05],\n",
       "       [ 1.48451364e-04, -1.17179404e-05,  1.68011319e-07]])\n",
       "      jac: array([0., 0., 2.])\n",
       "  message: 'Desired error not necessarily achieved due to precision loss.'\n",
       "     nfev: 288\n",
       "      nit: 10\n",
       "     njev: 69\n",
       "   status: 2\n",
       "  success: False\n",
       "        x: array([2.44255470e+04, 1.51701565e+03, 4.14742784e-01])"
      ]
     },
     "execution_count": 23,
     "metadata": {},
     "output_type": "execute_result"
    }
   ],
   "source": [
    "def funcion_de_poblacion_2(theta, x, y):\n",
    "    prediccion = (theta[0] + theta[1]*x + theta[2]*x**2)\n",
    "    error = y - prediccion\n",
    "    error_2 = error**2\n",
    "    return np.sum(error_2)\n",
    "\n",
    "theta_inicial_2 = np.random.rand(3)\n",
    "sol = opt.minimize(funcion_de_poblacion_2,\n",
    "                  theta_inicial_2,\n",
    "                  args=(x, y)) \n",
    "#los argumentos son los que estan despues de theta en la funcion de costo\n",
    "\n",
    "costo_2 = sol.fun\n",
    "resultados_2 = sol.x\n",
    "sol"
   ]
  },
  {
   "cell_type": "code",
   "execution_count": 24,
   "metadata": {},
   "outputs": [
    {
     "data": {
      "text/plain": [
       "      fun: 25240442.644999422\n",
       " hess_inv: array([[ 5.87963200e-02, -6.49227842e-03,  1.94614218e-04,\n",
       "        -1.71405334e-06],\n",
       "       [-6.49227842e-03,  1.20930109e-03, -4.40587016e-05,\n",
       "         4.30589391e-07],\n",
       "       [ 1.94614218e-04, -4.40587016e-05,  1.75331133e-06,\n",
       "        -1.80650501e-08],\n",
       "       [-1.71405334e-06,  4.30589391e-07, -1.80650501e-08,\n",
       "         1.92620632e-10]])\n",
       "      jac: array([0.  , 0.25, 0.25, 0.5 ])\n",
       "  message: 'Desired error not necessarily achieved due to precision loss.'\n",
       "     nfev: 222\n",
       "      nit: 8\n",
       "     njev: 42\n",
       "   status: 2\n",
       "  success: False\n",
       "        x: array([ 2.84777748e+04,  7.39077108e+02,  3.05649346e+01, -3.09232424e-01])"
      ]
     },
     "execution_count": 24,
     "metadata": {},
     "output_type": "execute_result"
    }
   ],
   "source": [
    "def funcion_de_poblacion_3(theta, x, y):\n",
    "    prediccion = (theta[0] + theta[1]*x + theta[2]*x**2 + theta[3]*x**3)\n",
    "    error = y - prediccion\n",
    "    error_2 = error**2\n",
    "    return np.sum(error_2)\n",
    "\n",
    "theta_inicial_3 = np.random.rand(4)\n",
    "sol = opt.minimize(funcion_de_poblacion_3,\n",
    "                  theta_inicial_3,\n",
    "                  args=(x, y)) \n",
    "#los argumentos son los que estan despues de theta en la funcion de costo\n",
    "\n",
    "costo_3 = sol.fun\n",
    "resultados_3 = sol.x\n",
    "sol"
   ]
  },
  {
   "cell_type": "code",
   "execution_count": 25,
   "metadata": {},
   "outputs": [
    {
     "data": {
      "text/plain": [
       "<matplotlib.legend.Legend at 0x1c7bfcd4d60>"
      ]
     },
     "execution_count": 25,
     "metadata": {},
     "output_type": "execute_result"
    },
    {
     "data": {
      "image/png": "[encoded data removed]",
      "text/plain": [
       "<Figure size 432x288 with 1 Axes>"
      ]
     },
     "metadata": {
      "needs_background": "light"
     },
     "output_type": "display_data"
    }
   ],
   "source": [
    "xn = np.linspace(0, 35, 200)\n",
    "yn1 = resultados_1[0]  + resultados_1[1]*xn\n",
    "yn2 = resultados_2[0]  + resultados_2[1]*xn + resultados_2[2]*xn**2\n",
    "yn3 = resultados_3[0]  + resultados_3[1]*xn + resultados_3[2]*xn**2 + resultados_3[3]*xn**3\n",
    "\n",
    "import matplotlib.pyplot as plt\n",
    "plt.figure()\n",
    "plt.scatter(x, y, s=5)\n",
    "plt.plot(xn, yn1, label=\"linear\")\n",
    "plt.plot(xn, yn2, label=\"Cuadrada\")\n",
    "plt.plot(xn, yn3, label=\"cubica\")\n",
    "plt.legend(loc=\"best\")"
   ]
  },
  {
   "cell_type": "code",
   "execution_count": 33,
   "metadata": {},
   "outputs": [
    {
     "data": {
      "image/png": "[encoded data removed]",
      "text/plain": [
       "<Figure size 432x288 with 1 Axes>"
      ]
     },
     "metadata": {
      "needs_background": "light"
     },
     "output_type": "display_data"
    }
   ],
   "source": [
    "x = data[\"Year\"] - 1950\n",
    "y = data[\"Nacimientos\"]\n",
    "plt.figure()\n",
    "plt.scatter(x + 1950, y, s=5)\n",
    "plt.grid()"
   ]
  },
  {
   "cell_type": "code",
   "execution_count": 34,
   "metadata": {},
   "outputs": [
    {
     "data": {
      "text/plain": [
       "      fun: 4737941619063.114\n",
       " hess_inv: array([[ 2.84952418e-02, -6.52723987e-04],\n",
       "       [-6.52723987e-04,  2.02891576e-05]])\n",
       "      jac: array([0., 0.])\n",
       "  message: 'Optimization terminated successfully.'\n",
       "     nfev: 45\n",
       "      nit: 6\n",
       "     njev: 15\n",
       "   status: 0\n",
       "  success: True\n",
       "        x: array([1564311.02678309,   21946.17001765])"
      ]
     },
     "execution_count": 34,
     "metadata": {},
     "output_type": "execute_result"
    }
   ],
   "source": [
    "def funcion_de_poblacion_a_nacimientos_1(theta, x, y):\n",
    "    prediccion = (theta[0] + theta[1]*x)\n",
    "    error = y - prediccion\n",
    "    error_2 = error**2\n",
    "    return np.sum(error_2)\n",
    "\n",
    "theta_inicial_1 = np.random.rand(2)\n",
    "sol = opt.minimize(funcion_de_poblacion_a_nacimientos_1,\n",
    "                  theta_inicial_1,\n",
    "                  args=(x, y)) \n",
    "#los argumentos son los que estan des:pues de theta en la funcion de costo\n",
    "\n",
    "costo_1 = sol.fun\n",
    "resultados_1 = sol.x\n",
    "sol"
   ]
  },
  {
   "cell_type": "code",
   "execution_count": 35,
   "metadata": {},
   "outputs": [
    {
     "data": {
      "text/plain": [
       "      fun: 492921049265.9473\n",
       " hess_inv: array([[ 4.46082872e-02, -2.86589680e-03,  3.73828548e-05],\n",
       "       [-2.86589680e-03,  2.69371316e-04, -4.02994191e-06],\n",
       "       [ 3.73828548e-05, -4.02994191e-06,  6.45058781e-08]])\n",
       "      jac: array([0., 0., 0.])\n",
       "  message: 'Optimization terminated successfully.'\n",
       "     nfev: 152\n",
       "      nit: 10\n",
       "     njev: 38\n",
       "   status: 0\n",
       "  success: True\n",
       "        x: array([ 1.02111177e+06,  7.27775645e+04, -7.81556647e+02])"
      ]
     },
     "execution_count": 35,
     "metadata": {},
     "output_type": "execute_result"
    }
   ],
   "source": [
    "def funcion_de_poblacion_a_nacimientos_2(theta, x, y):\n",
    "    prediccion = (theta[0] + theta[1]*x + theta[2]*x**2)\n",
    "    error = y - prediccion\n",
    "    error_2 = error**2\n",
    "    return np.sum(error_2)\n",
    "\n",
    "theta_inicial_2 = np.random.rand(3)\n",
    "sol = opt.minimize(funcion_de_poblacion_a_nacimientos_2,\n",
    "                  theta_inicial_2,\n",
    "                  args=(x, y)) \n",
    "#los argumentos son los que estan despues de theta en la funcion de costo\n",
    "\n",
    "costo_2 = sol.fun\n",
    "resultados_2 = sol.x\n",
    "sol"
   ]
  },
  {
   "cell_type": "code",
   "execution_count": 36,
   "metadata": {},
   "outputs": [
    {
     "data": {
      "text/plain": [
       "      fun: 441782331359.83746\n",
       " hess_inv: array([[ 1.05634237e-01, -1.20721758e-02,  3.68900363e-04,\n",
       "        -3.28310282e-06],\n",
       "       [-1.20721758e-02,  1.90925871e-03, -6.64505307e-05,\n",
       "         6.34769117e-07],\n",
       "       [ 3.68900363e-04, -6.64505307e-05,  2.47709458e-06,\n",
       "        -2.47007415e-08],\n",
       "       [-3.28310282e-06,  6.34769117e-07, -2.47007415e-08,\n",
       "         2.53629227e-10]])\n",
       "      jac: array([      0.,       0.,   20480., 1273856.])\n",
       "  message: 'Desired error not necessarily achieved due to precision loss.'\n",
       "     nfev: 222\n",
       "      nit: 8\n",
       "     njev: 42\n",
       "   status: 2\n",
       "  success: False\n",
       "        x: array([ 1.08830226e+06,  5.98753475e+04, -2.81461600e+02, -5.12946128e+00])"
      ]
     },
     "execution_count": 36,
     "metadata": {},
     "output_type": "execute_result"
    }
   ],
   "source": [
    "def funcion_de_poblacion_a_nacimientos_3(theta, x, y):\n",
    "    prediccion = (theta[0] + theta[1]*x + theta[2]*x**2 + theta[3]*x**3)\n",
    "    error = y - prediccion\n",
    "    error_2 = error**2\n",
    "    return np.sum(error_2)\n",
    "\n",
    "theta_inicial_3 = np.random.rand(4)\n",
    "sol = opt.minimize(funcion_de_poblacion_a_nacimientos_3,\n",
    "                  theta_inicial_3,\n",
    "                  args=(x, y)) \n",
    "#los argumentos son los que estan despues de theta en la funcion de costo\n",
    "\n",
    "costo_3 = sol.fun\n",
    "resultados_3 = sol.x\n",
    "sol"
   ]
  },
  {
   "cell_type": "code",
   "execution_count": 37,
   "metadata": {},
   "outputs": [
    {
     "data": {
      "text/plain": [
       "<matplotlib.legend.Legend at 0x1c7bfe5e0d0>"
      ]
     },
     "execution_count": 37,
     "metadata": {},
     "output_type": "execute_result"
    },
    {
     "data": {
      "image/png": "[encoded data removed]",
      "text/plain": [
       "<Figure size 432x288 with 1 Axes>"
      ]
     },
     "metadata": {
      "needs_background": "light"
     },
     "output_type": "display_data"
    }
   ],
   "source": [
    "xn = np.linspace(0, 35, 200)\n",
    "yn1 = resultados_1[0]  + resultados_1[1]*xn\n",
    "yn2 = resultados_2[0]  + resultados_2[1]*xn + resultados_2[2]*xn**2\n",
    "yn3 = resultados_3[0]  + resultados_3[1]*xn + resultados_3[2]*xn**2 + resultados_3[3]*xn**3\n",
    "\n",
    "import matplotlib.pyplot as plt\n",
    "plt.figure()\n",
    "plt.scatter(x, y, s=5)\n",
    "plt.plot(xn, yn1, label=\"linear\")\n",
    "plt.plot(xn, yn2, label=\"Cuadrada\")\n",
    "plt.plot(xn, yn3, label=\"cubica\")\n",
    "plt.legend(loc=\"best\")"
   ]
  },
  {
   "cell_type": "code",
   "execution_count": null,
   "metadata": {},
   "outputs": [],
   "source": []
  },
  {
   "cell_type": "code",
   "execution_count": 17,
   "metadata": {},
   "outputs": [
    {
     "data": {
      "image/png": "[encoded data removed]",
      "text/plain": [
       "<Figure size 432x288 with 1 Axes>"
      ]
     },
     "metadata": {
      "needs_background": "light"
     },
     "output_type": "display_data"
    }
   ],
   "source": [
    "# Se muestra la gráfica. Vea como los datos son escalados, esto le ayudará en el cálculo\n",
    "# de la regresión.\n",
    "\n",
    "plt.plot(data.values[:,0],data.values[:,1]/1000,label=data.columns[1]+' en miles')\n",
    "plt.plot(data.values[:,0],data.values[:,2]/10000,'r',label=data.columns[2]+' en decenas de miles')\n",
    "plt.legend(loc=2)\n",
    "plt.xlabel(data.columns[0])\n",
    "plt.grid()"
   ]
  },
  {
   "cell_type": "markdown",
   "metadata": {},
   "source": [
    "---"
   ]
  },
  {
   "cell_type": "code",
   "execution_count": null,
   "metadata": {},
   "outputs": [],
   "source": []
  }
 ],
 "metadata": {
  "kernelspec": {
   "display_name": "Python 3 (ipykernel)",
   "language": "python",
   "name": "python3"
  },
  "language_info": {
   "codemirror_mode": {
    "name": "ipython",
    "version": 3
   },
   "file_extension": ".py",
   "mimetype": "text/x-python",
   "name": "python",
   "nbconvert_exporter": "python",
   "pygments_lexer": "ipython3",
   "version": "3.9.7"
  }
 },
 "nbformat": 4,
 "nbformat_minor": 2
}
