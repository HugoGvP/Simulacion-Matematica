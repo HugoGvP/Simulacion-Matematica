{
 "cells": [
  {
   "cell_type": "markdown",
   "metadata": {},
   "source": [
    "# Examen Módulo 1 - Optimización.\n",
    "\n",
    "**Lea cuidadosamente las siguientes indicaciones antes de comenzar el examen:**\n",
    "- Para resolver el examen edite este mismo archivo y renómbrelo de la siguiente manera: *Examen1_ApellidoNombre*, donde *ApellidoNombre* corresponde a su apellido paterno con la inicial en mayúscula, seguido de su primer nombre con la inicial en mayúscula **sin acentos**. Por ejemplo, en mi caso el nombre del archivo sería *Examen1_ArellanoCarlos*.\n",
    "- Resuelva los puntos en el espacio provisto. Si requiere agregar más celdas para código o escritura, hágalo (`Esc`,`B`) o (`Esc`,`A`).\n",
    "- Recuerde que también se está evaluando su capacidad de interpretar los resultados. Escriba sus interpretaciones/conclusiones en celdas utilizando *Markdown*.\n",
    "- El formato de presentación de todo el examen en general debe ser adecuado. Use tamaños de letra, colores, etiquetas, etcétera.\n",
    "- No se resuelven dudas de ningún tipo por los profesores de la asignatura. Por favor, absténgase de preguntar.\n",
    "- Revise bien el tipo de examen. Sólo se le calificará si realiza el tipo de examen asignado."
   ]
  },
  {
   "cell_type": "markdown",
   "metadata": {},
   "source": [
    "---\n",
    "# Primer punto. Optimización de funciones con `SymPy` (34 puntos)\n",
    "\n",
    "**Volumen máximo**. Considere un cono circular recto inscrito en una esfera de radio $r$:"
   ]
  },
  {
   "cell_type": "code",
   "execution_count": 80,
   "metadata": {},
   "outputs": [
    {
     "data": {
      "image/png": "[encoded data removed]",
      "text/plain": [
       "<Figure size 432x288 with 1 Axes>"
      ]
     },
     "metadata": {
      "needs_background": "light"
     },
     "output_type": "display_data"
    }
   ],
   "source": [
    "import numpy as np\n",
    "import sympy as sp\n",
    "\n",
    "import matplotlib.pyplot as plt\n",
    "import matplotlib.patches as patches\n",
    "%matplotlib inline\n",
    "\n",
    "B1 = patches.Arc((0, -0.4), 1.8,0.3,theta2=180,fc='None',ls='--',color='k')\n",
    "B2 = patches.Arc((0, -0.4), 1.8,0.3,theta1=180,fc='None',color='k')\n",
    "C = patches.Circle((0, 0), 1,fc='None',lw=2,color='k');\n",
    "ax = plt.gca()\n",
    "ax.add_artist(B1)\n",
    "ax.add_artist(B2)\n",
    "ax.add_artist(C)\n",
    "\n",
    "plt.plot([0.9,0,-0.9],[-0.4,1,-0.4],'k')\n",
    "plt.plot([0,0],[-0.4,1],'--r')\n",
    "plt.plot([0,0],[-0.4,0],'ok')\n",
    "plt.plot([0,0.9],[0,-0.4],'--r')\n",
    "plt.plot([-0.2,0],[-0.4,-0.4],'--k')\n",
    "plt.plot([-0.2,0],[1,1],'--k')\n",
    "plt.plot([-0.14,-0.14],[-0.4,0.2],'--k')\n",
    "plt.plot([-0.14,-0.14],[0.4,1],'--k')\n",
    "\n",
    "plt.text(-0.18,0.26,'h')\n",
    "plt.text(0.4,-0.1,'$r$')\n",
    "plt.text(0.05,0.4,'$r$')\n",
    "\n",
    "plt.axis([-1.7,1.7,-1.1,1.1])\n",
    "plt.axis('off')\n",
    "plt.show()"
   ]
  },
  {
   "cell_type": "markdown",
   "metadata": {},
   "source": [
    "1. Escriba el volumen $V$ del cono como una función de la altura $h$ de éste. Realice este punto usando fórmulas de $\\LaTeX$, en celdas *Markdown*. (14 puntos)\n",
    "2. Determinar el valor de $h$ que maximiza el volumen para un radio $r=2$. (10 puntos)\n",
    "3. ¿Cuál es el volumen máximo del cono? (10 puntos)"
   ]
  },
  {
   "cell_type": "markdown",
   "metadata": {},
   "source": [
    "$$ V = \\frac{1}{3}\\pi r^2h $$\n",
    "\n",
    "Teniendo en cuenta el teorema de la altura y que son triangulos semejantes ya que tienen el mismo angulo, podemos decir que:\n",
    "$$ \\frac{h}{r} = \\frac{r}{2R-h} $$\n",
    "Donde ''R'' viene siendo el radio del cono, entonces para dejar la formula en funcion de h, haremos:\n",
    "$$ r^2 = h(2R-h) $$\n",
    "Ahora, sustituyendo $ r^2 $ en la funcion de volumen:\n",
    "$$ V = \\frac{1}{3}\\pi h^2(2R-h) $$"
   ]
  },
  {
   "cell_type": "code",
   "execution_count": 81,
   "metadata": {},
   "outputs": [
    {
     "data": {
      "text/latex": [
       "$\\displaystyle 0.333333333333333 \\pi h^{2} \\left(2 R - h\\right)$"
      ],
      "text/plain": [
       "0.333333333333333*pi*h**2*(2*R - h)"
      ]
     },
     "execution_count": 81,
     "metadata": {},
     "output_type": "execute_result"
    }
   ],
   "source": [
    "h = sp.var(\"h\")\n",
    "R = sp.var(\"R\")\n",
    "\n",
    "def V(h) :\n",
    "    return (1/3)*(sp.pi*h**2)*(2*R - h)\n",
    "\n",
    "V(h)"
   ]
  },
  {
   "cell_type": "code",
   "execution_count": 82,
   "metadata": {},
   "outputs": [
    {
     "data": {
      "text/latex": [
       "$\\displaystyle - 0.333333333333333 \\pi h^{2} + 0.666666666666667 \\pi h \\left(2 R - h\\right)$"
      ],
      "text/plain": [
       "-0.333333333333333*pi*h**2 + 0.666666666666667*pi*h*(2*R - h)"
      ]
     },
     "execution_count": 82,
     "metadata": {},
     "output_type": "execute_result"
    }
   ],
   "source": [
    "#Calculando la primera derivada\n",
    "dvh = sp.diff(V(h), h)\n",
    "dvh"
   ]
  },
  {
   "cell_type": "code",
   "execution_count": 83,
   "metadata": {},
   "outputs": [
    {
     "data": {
      "text/plain": [
       "[0.0, 1.33333333333333*R]"
      ]
     },
     "execution_count": 83,
     "metadata": {},
     "output_type": "execute_result"
    }
   ],
   "source": [
    "#Resolviendo para punto critico igualando a 0\n",
    "pcvh = sp.solve(dvh, h)\n",
    "pcvh"
   ]
  },
  {
   "cell_type": "markdown",
   "metadata": {},
   "source": [
    "Esto nos dice que el punto critico se encuentra en 1.33*R, osea cuando $ h = 1.3333R $\n",
    "\n",
    "Teniendo en cuenta eso deberemos de declarar la ecuacion de $ r^2 $, para asi poder sustituir el valor de h y saber el valor\n",
    "que maximiza el volumen cuando el $ r = 2 $"
   ]
  },
  {
   "cell_type": "code",
   "execution_count": 84,
   "metadata": {},
   "outputs": [
    {
     "data": {
      "text/latex": [
       "$\\displaystyle 0.88891111 R^{2} - 4$"
      ],
      "text/plain": [
       "0.88891111*R**2 - 4"
      ]
     },
     "execution_count": 84,
     "metadata": {},
     "output_type": "execute_result"
    }
   ],
   "source": [
    "#Entonces sustituyendo el valor obtenido en pcvh el punto critico en h en r(h)\n",
    "\n",
    "def pcvhR(h) :\n",
    "    return 1.3333*R\n",
    "\n",
    "def r(h) :\n",
    "    return pcvhR(h)*(2*R - pcvhR(h))-2**2\n",
    "r(h)"
   ]
  },
  {
   "cell_type": "markdown",
   "metadata": {},
   "source": [
    "teniendo que $ 0.88891111R^2-4 $\n",
    "resolveremos para R "
   ]
  },
  {
   "cell_type": "code",
   "execution_count": 85,
   "metadata": {},
   "outputs": [
    {
     "data": {
      "text/plain": [
       "[-2.12129382887830, 2.12129382887830]"
      ]
     },
     "execution_count": 85,
     "metadata": {},
     "output_type": "execute_result"
    }
   ],
   "source": [
    "res = sp.solve(r(h), R)\n",
    "\n",
    "res"
   ]
  },
  {
   "cell_type": "code",
   "execution_count": 86,
   "metadata": {},
   "outputs": [
    {
     "data": {
      "text/latex": [
       "$\\displaystyle 2.1212938288783$"
      ],
      "text/plain": [
       "2.12129382887830"
      ]
     },
     "execution_count": 86,
     "metadata": {},
     "output_type": "execute_result"
    }
   ],
   "source": [
    "#Tomamos solo el valor posiitvo \n",
    "res[1]"
   ]
  },
  {
   "cell_type": "code",
   "execution_count": 87,
   "metadata": {},
   "outputs": [
    {
     "data": {
      "text/latex": [
       "$\\displaystyle 2.82832106204343$"
      ],
      "text/plain": [
       "2.82832106204343"
      ]
     },
     "execution_count": 87,
     "metadata": {},
     "output_type": "execute_result"
    }
   ],
   "source": [
    "#Ahora calculando el valor de h para maximizar con radio de 2\n",
    "\n",
    "h = (1.3333*R).subs(R, res[1])\n",
    "h"
   ]
  },
  {
   "cell_type": "code",
   "execution_count": 88,
   "metadata": {},
   "outputs": [
    {
     "data": {
      "text/latex": [
       "$\\displaystyle 3.77109474939125 \\pi$"
      ],
      "text/plain": [
       "3.77109474939125*pi"
      ]
     },
     "execution_count": 88,
     "metadata": {},
     "output_type": "execute_result"
    }
   ],
   "source": [
    "#Ahora calculando el volumen maximo\n",
    "def Vol(h) :\n",
    "    return (1/3)*(sp.pi*h*4)\n",
    "\n",
    "Vol(h)"
   ]
  },
  {
   "cell_type": "markdown",
   "metadata": {},
   "source": [
    "# Segundo punto. Programación lineal (33 puntos)\n",
    "\n",
    "Una compañia de aceros produce dos tamaños de tubos: A, B que son vendidos, respectivamente en 10u.m. y 9u.m. por metro. Para fabricar cada metro del tubo A se requieren 0.5 minutos de tiempo de procesamiento sobre un tipo particular de maquina de modelado y cada metro del tubo B requiere 0.6 minutos. Después de la producción, cada metro de tubo, sin importar el tipo requiere 1 onza de material de soldar. El costo total se estima en 3u.m. y 4u.m. por metro de los tubos respectivamente. Para la siguiente semana, la compañía ha recibido pedidos excepcionalmente grandes que totalizan 2000 metros del tubo A y 5000 metros del tubo B. como solo se dispone de 30 horas de tiempo de maquina esta semana y solo se tienen en inventario 3500 onzas de material de soldar, el departamento de producción no podrá satisfacer esta demanda. Como no se espera que continúe esta demanda tan alta, la gerencia esta considerando la compra de algunos de estos tubos a proveedores de Japón a un costo de entrega de 6u.m. por metro del tubo A y 7u.m. por metro del tubo B.\n",
    "\n",
    "Se desea conocer la cantidad de producción de cada tipo de tubo y la cantidad de compra a Japón para satisfacer la demanda y **maximizar** las ganancias de la compañía (esto es, precio de venta menos costos). La siguiente tabla presenta la información correspondiente.\n",
    "\n",
    "<table>\n",
    "  <tr>\n",
    "      <th>Tubo</th>\n",
    "      <th>Precio de venta</th>\n",
    "      <th>Demanda</th>\n",
    "      <th>Tiempo de máquina</th>\n",
    "      <th>Material para soldar</th>\n",
    "      <th>Costo de producción</th>\n",
    "      <th>Costo de compra</th>\n",
    "  </tr>\n",
    "  <tr>\n",
    "      <th>Tipo A</th>\n",
    "      <td>10</td>\n",
    "      <td>2000</td>\n",
    "      <td>0.5 min</td>\n",
    "      <td>1 oz/m</td>\n",
    "      <td>3</td>\n",
    "      <td>6</td>\n",
    "  </tr>\n",
    "  <tr style=\"border-bottom: 1px solid #000;\">\n",
    "      <th>Tipo B</th>\n",
    "      <td>9</td>\n",
    "      <td>5000</td>\n",
    "      <td>0.6 min</td>\n",
    "      <td>1 oz/m</td>\n",
    "      <td>4</td>\n",
    "      <td>7</td>\n",
    "  </tr>\n",
    "  <tr>\n",
    "      <td>Disponibilidad</td>\n",
    "      <td></td>\n",
    "      <td></td>\n",
    "      <td>30 horas</td>\n",
    "      <td>3500 oz</td>\n",
    "      <td></td>\n",
    "      <td></td>\n",
    "  </tr>\n",
    "</table>\n",
    "\n",
    "1. Escriba la función a **minimizar** junto con las restricciones, explicando detalladamente cada paso (usando fórmulas en $\\LaTeX$, en celdas Markdown). Además escriba el problema en la forma \\begin{equation}\n",
    "\\begin{array}{ll}\n",
    "\\min_{\\boldsymbol{x}} & \\boldsymbol{c}^T\\boldsymbol{x} \\\\\n",
    "\\text{s. a. }        & \\boldsymbol{A}_{eq}\\boldsymbol{x}=\\boldsymbol{b}_{eq} \\\\\n",
    "                     & \\boldsymbol{A}\\boldsymbol{x}\\leq\\boldsymbol{b},\n",
    "\\end{array}\\qquad\\text{(23 puntos)}\n",
    "\\end{equation}\n",
    "2. Resuelva el problema utilizando la función `linprog`. ¿Cuántos tubos de cada tipo se deben producir?, ¿Cuántos se deben comprar?, ¿Cuál es la ganancia? (10 puntos)"
   ]
  },
  {
   "cell_type": "markdown",
   "metadata": {},
   "source": [
    "La función objetivo será:\n",
    "\n",
    "$$ \\min_{x_1,\\dots,x_4}-7x_1 - 5x_2 - 4x_3 - 2x_4 $$\n",
    "\n",
    "Donde:\n",
    "- $ x_1 $ = tubo tipo A antes de la demanda \n",
    "- $ x_2 $ = tubo tipo B antes de la demanda \n",
    "- $ x_3 $ = tubo tipo A despues de la demanda \n",
    "- $ x_4 $ = tubo tipo B despues de la demanda \n",
    "\n",
    "Ahora tenemos las restricciones:\n",
    "\n",
    "Tenemos la restriccion de los minutos de fabricacion para los tubos tipo A y B\n",
    "- $ 0.5x_1 + 0.6x_2 \\leq 1800$\n",
    "\n",
    "Tenemos la restriccion del material de produccion para los tubos de tipo A y B\n",
    "- $ x_1 + x_2 \\leq 3500 $\n",
    "\n",
    "Tenemos las restricciones de produccion de tubos tipo A y B antes de la demanda\n",
    "- $ x_1 + x_3 \\leq 2000$\n",
    "- $ x_2 + x_4 \\leq 5000$\n",
    "\n",
    "Tenemos las restricciones de produccion de tubos tipo A y B despues de la demanda\n",
    "- $ x_1 + x_3 \\geq 2000$\n",
    "- $ x_2 + x_4 \\geq 5000$"
   ]
  },
  {
   "cell_type": "markdown",
   "metadata": {},
   "source": [
    "De manera reescrita\n",
    "\n",
    "- $\\boldsymbol{c}=\\left[-7 \\quad -5 \\quad -4 \\quad -2 \\right]^\\top$,\n",
    "- $\\boldsymbol{A}=\\left[\\begin{array}{cc}0.5 & 0.6 & 0 & 0 \\\\ 1 & 1 & 0 & 0 & \\\\ 1 & 0 & 1 & 0 \\\\ 0 & 1 & 0 & 1 \\\\ -1 & 0 & -1 & 0 \\\\ 0 & -1 & 0 & -1\\end{array}\\right]$\n",
    "- $\\boldsymbol{b}=\\left[1800 \\quad 3500 \\quad 2000 \\quad 5000 \\quad -2000 \\quad -5000\\right]^\\top$"
   ]
  },
  {
   "cell_type": "code",
   "execution_count": 93,
   "metadata": {},
   "outputs": [],
   "source": [
    "import numpy as np\n",
    "import scipy.optimize as opt"
   ]
  },
  {
   "cell_type": "code",
   "execution_count": 100,
   "metadata": {},
   "outputs": [
    {
     "data": {
      "text/plain": [
       "     con: array([], dtype=float64)\n",
       "     fun: -28000.0\n",
       " message: 'Optimization terminated successfully.'\n",
       "     nit: 9\n",
       "   slack: array([  0.        , 166.66666667,   0.        ,   0.        ,\n",
       "         0.        ,   0.        ])\n",
       "  status: 0\n",
       " success: True\n",
       "       x: array([2000.        , 1333.33333333,    0.        , 3666.66666667])"
      ]
     },
     "execution_count": 100,
     "metadata": {},
     "output_type": "execute_result"
    }
   ],
   "source": [
    "c = np.array([-7, -5, -4, -2])\n",
    "A = np.array([[0.5, 0.6, 0, 0],\n",
    "              [1, 1, 0, 0],\n",
    "              [1, 0, 1, 0], \n",
    "              [0, 1, 0, 1],\n",
    "              [-1, 0, -1, 0],\n",
    "              [0, -1, 0, -1]]) \n",
    "b = np.array([1800, 3500, 2000, 5000, -2000, -5000])\n",
    "\n",
    "opt.linprog(c, A, b, method=\"simplex\")"
   ]
  },
  {
   "cell_type": "markdown",
   "metadata": {},
   "source": [
    "###### Teniendo en cuenta los resultados en x:\n",
    "\n",
    "- Se deben producir 2000 tubos tipo A\n",
    "- Se deben producir 1333 tubos tipo B\n",
    "- Se deben comprar 0 tubos tipo A\n",
    "- Se deben comprar 3667 tubos tipo B"
   ]
  },
  {
   "cell_type": "markdown",
   "metadata": {},
   "source": [
    "## Calculando la ganancia\n",
    "Sabiendo que el total de ventas de los tubos de tipo A y B es de $65,000, restandole los gastos de produccion y de compra\n",
    "tendremos las ganancias"
   ]
  },
  {
   "cell_type": "code",
   "execution_count": 101,
   "metadata": {},
   "outputs": [
    {
     "data": {
      "text/plain": [
       "65000"
      ]
     },
     "execution_count": 101,
     "metadata": {},
     "output_type": "execute_result"
    }
   ],
   "source": [
    "vt = 2000*10 + 5000*9\n",
    "vt"
   ]
  },
  {
   "cell_type": "code",
   "execution_count": 104,
   "metadata": {},
   "outputs": [
    {
     "data": {
      "text/plain": [
       "36999.9994"
      ]
     },
     "execution_count": 104,
     "metadata": {},
     "output_type": "execute_result"
    }
   ],
   "source": [
    "gpc = 2000*3 + 1333.3333*4 + 3666.6666*7\n",
    "gpc"
   ]
  },
  {
   "cell_type": "code",
   "execution_count": 107,
   "metadata": {},
   "outputs": [
    {
     "data": {
      "text/plain": [
       "28000.0006"
      ]
     },
     "execution_count": 107,
     "metadata": {},
     "output_type": "execute_result"
    }
   ],
   "source": [
    "Ganancia_total = vt - gpc\n",
    "Ganancia_total"
   ]
  }
 ],
 "metadata": {
  "kernelspec": {
   "display_name": "Python 3 (ipykernel)",
   "language": "python",
   "name": "python3"
  },
  "language_info": {
   "codemirror_mode": {
    "name": "ipython",
    "version": 3
   },
   "file_extension": ".py",
   "mimetype": "text/x-python",
   "name": "python",
   "nbconvert_exporter": "python",
   "pygments_lexer": "ipython3",
   "version": "3.9.7"
  }
 },
 "nbformat": 4,
 "nbformat_minor": 2
}
