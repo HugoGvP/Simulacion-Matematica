{
 "cells": [
  {
   "cell_type": "markdown",
   "metadata": {},
   "source": [
    "<img style=\"float: left; margin: 30px 15px 15px 15px;\" src=\"https://pngimage.net/wp-content/uploads/2018/06/logo-iteso-png-5.png\" width=\"300\" height=\"500\" /> \n",
    "    \n",
    "    \n",
    "### <font color='navy'> Simulación Matématica. \n",
    "\n",
    "**Nombre:** Hugo Gabriel Velarde Pérez.\n",
    "    \n",
    "**Fecha:** 17 de Febrero del 2022.\n",
    "\n",
    "**Expediente** : IF730799\n",
    "\n",
    "\n",
    "    \n",
    "   \n",
    "**Profesor:** Gabriel Alejandro Morales Ruiz."
   ]
  },
  {
   "cell_type": "markdown",
   "metadata": {},
   "source": [
    "# Tarea - Programación lineal"
   ]
  },
  {
   "cell_type": "markdown",
   "metadata": {},
   "source": [
    "### Diseño de la Dieta Óptima\n",
    "\n",
    "Se quiere producir comida para gatos de la manera más barata, no obstante se debe también asegurar que se cumplan los datos requeridos de analisis nutricional. Por lo que se quiere variar la cantidad de cada ingrediente para cumplir con los estandares nutricionales. Los requisitos que se tienen es que en $100$ gramos, se deben tener **por lo menos** $8$ gramos de proteína y $6$ gramos de grasa. Así mismo, no se debe tener más de $2$ gramos de fibra y $0.4$ gramos de sal.  \n",
    "\n",
    "Los datos nutricionales se pueden obtener de la siguiente tabla:\n",
    "\n",
    "Ingrediente|Proteína|Grasa|Fibra|Sal\n",
    ":----|----|----|----|----\n",
    "Pollo|  10.0%|08.0%|00.1%|00.2%\n",
    "Carne|  20.0%|10.0%|00.5%|00.5%\n",
    "Cordero|15.0%|11.0%|00.5%|00.7%\n",
    "Arroz|  00.0%|01.0%|10.0%|00.2%\n",
    "Trigo|  04.0%|01.0%|15.0%|00.8%\n",
    "Gel|    00.0%|00.0%|00.0%|00.0%\n",
    "\n",
    "Los costos de cada producto son:\n",
    "\n",
    "Ingrediente|Costo por gramo\n",
    ":----|----\n",
    "Pollo|$\\$$0.013\n",
    "Carne|$\\$$0.008\n",
    "Cordero|$\\$$0.010\n",
    "Arroz|$\\$$0.002\n",
    "Trigo|$\\$$0.005\n",
    "Gel|$\\$$0.001    \n",
    "\n",
    "Lo que se busca optimizar en este caso es la cantidad de productos que se debe utilizar en la comida de gato, minimizando el costo total. Para simplificar la notación use las siguientes variables: \n",
    "\n",
    "+ $x_1:$ Gramos de pollo  \n",
    "+ $x_2:$ Gramos de carne  \n",
    "+ $x_3:$ Gramos de cordero  \n",
    "+ $x_4:$ Gramos de arroz  \n",
    "+ $x_5:$ Gramos de trigo  \n",
    "+ $x_6:$ Gramos de gel\n",
    "\n",
    "se tienen las siguientes ecuaciones:\n",
    "\n",
    "Restricciones de proteina, grasa, fibra y sal:\n",
    "\n",
    "- Proteina: $(\\frac{10}{100})x_1 + (\\frac{20}{100})x_2 + (\\frac{15}{100})x_3 + 0x_4 + (\\frac{4}{100})x_5 + 0x_6 \\geq 8$\n",
    "- Grasa:    $(\\frac{8}{100})x_1 + (\\frac{10}{100})x_2 + (\\frac{11}{100})x_3 + (\\frac{1}{100})x_4 + (\\frac{4}{100})x_5 + 0x_6 \\geq 6$\n",
    "- Fibra:    $(\\frac{.1}{100})x_1 + (\\frac{.5}{100})x_2 + (\\frac{.5}{100})x_3 + (\\frac{10}{100})x_4 + (\\frac{15}{100})x_5 + 0x_6 \\leq 6$\n",
    "- Sal:      $(\\frac{.2}{100})x_1 + (\\frac{.5}{100})x_2 + (\\frac{.7}{100})x_3 + (\\frac{.2}{100})x_4 + (\\frac{.8}{100})x_5 + 0x_6 \\leq 0.4$\n",
    "\n",
    "Pero tenemos que reescribir las restricciones de Proteina y Grasa:\n",
    "- Proteina: $-(\\frac{10}{100})x_1 - (\\frac{20}{100})x_2 - (\\frac{15}{100})x_3 - 0x_4 - (\\frac{4}{100})x_5 - 0x_6 \\leq -8$\n",
    "- Grasa:    $-(\\frac{8}{100})x_1 - (\\frac{10}{100})x_2 - (\\frac{11}{100})x_3 - (\\frac{1}{100})x_4 - (\\frac{4}{100})x_5 - 0x_6 \\leq -6$\n",
    "- Fibra:    $(\\frac{.1}{100})x_1 + (\\frac{.5}{100})x_2 + (\\frac{.5}{100})x_3 + (\\frac{10}{100})x_4 + (\\frac{15}{100})x_5 + 0x_6 \\leq 6$\n",
    "- Sal:      $(\\frac{.2}{100})x_1 + (\\frac{.5}{100})x_2 + (\\frac{.7}{100})x_3 + (\\frac{.2}{100})x_4 + (\\frac{.8}{100})x_5 + 0x_6 \\leq 0.4$\n",
    "\n",
    "Reestriccion de gramos en total entre todas las variables:\n",
    "\n",
    "- $ x_1 + x_2 + x_3 + x_4 + x_5 + x_6 \\geq 100$\n",
    "- $- x_1 - x_2 - x_3 - x_4 - x_5 - x_6 \\leq -100$\n",
    "\n",
    "La función objetivo será:\n",
    "\n",
    "$$\\min_{x_1,\\dots,x_6}(0.013)x_1 + (0.008)x_2 + (0.01)x_3 + (0.002)x_4 + (0.005)x_5 + (0.001)x_6$$\n",
    "\n",
    "\n",
    "De manera reescrita\n",
    "\n",
    "- $\\boldsymbol{c}=\\left[0.013 \\quad 0.008 \\quad 0.01 \\quad 0.002 \\quad 0.005 \\quad 0.001 \\right]^\\top$,\n",
    "- $\\boldsymbol{A}=\\left[\\begin{array}{cc}(-\\frac{10}{100}) & (-\\frac{20}{100}) & (-\\frac{15}{100}) & 0 & (-\\frac{4}{100}) & 0 \\\\ (-\\frac{8}{100}) & (-\\frac{10}{100}) & (-\\frac{11}{100}) & (-\\frac{1}{100}) & (-\\frac{4}{100}) & 0 \\\\ (\\frac{.1}{100}) & (\\frac{.5}{100}) & (\\frac{.5}{100}) & (\\frac{10}{100}) & (\\frac{15}{100}) & 0 \\\\ (\\frac{.2}{100}) & (\\frac{.5}{100}) & (\\frac{.7}{100}) & (\\frac{.2}{100}) & (\\frac{.8}{100}) & 0 \\\\ -1 & -1 & -1 & -1 & -1 & -1\\end{array}\\right]$\n",
    "- $\\boldsymbol{b}=\\left[-8 \\quad -6 \\quad 2 \\quad 0.4 \\quad -100\\right]^\\top$\n",
    "\n",
    "La tarea consiste en plantear el problemade programación lineal que permita satisfacer las necesidades alimenticias del gato al tiempo que minimice el costo total y resolverlo con `linprog`."
   ]
  },
  {
   "cell_type": "code",
   "execution_count": 10,
   "metadata": {},
   "outputs": [],
   "source": [
    "import scipy.optimize as opt\n",
    "import numpy as np"
   ]
  },
  {
   "cell_type": "code",
   "execution_count": 32,
   "metadata": {},
   "outputs": [],
   "source": [
    "\n",
    "c = np.array([0.013, 0.008, 0.01, 0.002, 0.005, 0.001])\n",
    "A = np.array([[-0.10, -0.20, -0.15, 0, -0.04, 0],\n",
    "              [-0.08, -0.10, -0.11, -0.01, -0.04, 0],\n",
    "              [0.001, 0.005, 0.005, 0.10, 0.15, 0], \n",
    "              [0.002, 0.005, 0.007, 0.002, 0.008, 0],\n",
    "             [-1, -1, -1, -1, -1, -1]]) \n",
    "b = np.array([-8, -6, 2, 0.4, -100])\n",
    "\n",
    "respuesta = opt.linprog(c, A, b)"
   ]
  },
  {
   "cell_type": "code",
   "execution_count": 33,
   "metadata": {},
   "outputs": [
    {
     "data": {
      "text/plain": [
       "array([2.60398326e-07, 5.99999981e+01, 1.50114237e-06, 7.24252669e-08,\n",
       "       1.07693824e-06, 4.00000066e+01])"
      ]
     },
     "execution_count": 33,
     "metadata": {},
     "output_type": "execute_result"
    }
   ],
   "source": [
    "respuesta.x"
   ]
  },
  {
   "cell_type": "markdown",
   "metadata": {},
   "source": [
    "### Problema de distribución de energía eléctrica\n",
    "\n",
    "La Comisión Federal de Electricidad **(CFE)** dispone de cuatro plantas de generación para satisfacer la demanda diaria eléctrica en cuatro ciudades, Guadalajara, León y Morelia. Las plantas $1$, $2$ y $3$ pueden satisfacer $80$, $40$ y $60$ millones de KW al día respectivamente. Las necesidades de las ciudades de Guadalajara, León y Morelia son de $70$, $40$ y $70$ millones de Kw al día respectivamente. \n",
    "\n",
    "\n",
    "Los costos asociados al envío de suministro energético por cada millón de Kw entre cada planta y cada ciudad son los registrados en la siguiente tabla. \n",
    "\n",
    "-|Guadalajara|León|Morelia\n",
    ":----|----|----|----\n",
    "Planta 1|5|2|7\n",
    "Planta 2|3|6|6\n",
    "Planta 3|6|1|2\n",
    "\n",
    "Y por último, las restricciones del problema, van a estar dadas por las capacidades de oferta y demanda de cada planta (en millones de KW) y cada ciudad.\n",
    "\n",
    "Para simplificar la notación use las siguientes variables:\n",
    "\n",
    "+ $x_1$: Kw (en millones) distribuidos de la Planta 1 a Guadalajara\n",
    "+ $x_2$: Kw (en millones) distribuidos de la Planta 1 a León\n",
    "+ $x_3$: Kw (en millones) distribuidos de la Planta 1 a Morelia\n",
    "+ $x_4$: Kw (en millones) distribuidos de la Planta 2 a Guadalajara\n",
    "+ $x_5$: Kw (en millones) distribuidos de la Planta 2 a León\n",
    "+ $x_6$: Kw (en millones) distribuidos de la Planta 2 a Morelia\n",
    "+ $x_7$: Kw (en millones) distribuidos de la Planta 3 a Guadalajara\n",
    "+ $x_8$: Kw (en millones) distribuidos de la Planta 3 a León\n",
    "+ $x_9$: Kw (en millones) distribuidos de la Planta 3 a Morelia\n",
    "\n",
    "se tienen las siguientes ecuaciones:\n",
    "\n",
    "Restricciones de las necesidades de las ciudades:\n",
    "\n",
    "- Guadalajara: $ -x_1 - x_4 - x_7 \\leq -70$\n",
    "- Leon:    $ -x_2 - x_5 - x_8 \\leq -40$\n",
    "- Morelia:    $ -x_3 - x_6 - x_9 \\leq -70$\n",
    "\n",
    "Restricciones de las satisfacciones de las plantas:\n",
    "\n",
    "- Planta 1: $ -x_1 - x_2 - x_3\\leq -80$\n",
    "- Planta 2: $ -x_4 - x_5 - x_6\\leq -40$\n",
    "- Planta 3: $ -x_7 - x_8 - x_9 \\leq -60$\n",
    "\n",
    "\n",
    "\n",
    "La función objetivo será:\n",
    "\n",
    "$$\\min_{x_1,\\dots,x_9}(5)x_1 + (2)x_2 + (7)x_3 + (3)x_4 + (6)x_5 + (6)x_6 + (6)x_7 + x_8 + (2)x_9$$\n",
    "\n",
    "\n",
    "De manera reescrita\n",
    "\n",
    "- $\\boldsymbol{c}=\\left[5 \\quad 2 \\quad 7 \\quad 3 \\quad 6 \\quad 6 \\quad 6 \\quad 1 \\quad 2\\right]^\\top$,\n",
    "- $\\boldsymbol{A}=\\left[\\begin{array}{cc}-1 & 0 & 0 & -1 & 0 & 0 & -1 & 0 & 0 \\\\ 0 & -1 & 0 & 0 & -1 & 0 & 0 & -1 & 0 \\\\ 0 & 0 & -1 & 0 & 0 & -1 & 0 & 0 & -1 \\\\ -1 & -1 & -1 & 0 & 0 & 0 & 0 & 0 & 0\\\\ 0 & 0 & 0 & -1 & -1 & -1 & 0 & 0 & 0 \\\\ 0 & 0 & 0 & 0 & 0 & 0 & -1 & -1 & -1 \\end{array}\\right]$\n",
    "- $\\boldsymbol{b}=\\left[-70 \\quad -40 \\quad -70 \\quad -80 \\quad -40 \\quad -60\\right]^\\top$\n",
    "\n",
    "\n",
    "La tarea consiste en plantear el problema de programación lineal que permita satisfacer las necesidades de todas las ciudades al tiempo que minimice los costos asociados a la distribución y resolverlo con `linprog`."
   ]
  },
  {
   "cell_type": "code",
   "execution_count": 35,
   "metadata": {},
   "outputs": [],
   "source": [
    "c = np.array([5, 2, 7, 3, 6, 6, 6, 1, 2])\n",
    "A = np.array([[-1, 0, 0, -1, 0, 0, -1, 0, 0],\n",
    "              [0, -1, 0, 0, -1, 0, 0, -1, 0],\n",
    "              [0, 0, -1, 0, 0, -1, 0, 0, -1], \n",
    "              [-1, -1, -1, 0, 0, 0, 0, 0, 0],\n",
    "              [0, 0, 0, -1, -1, -1, 0, 0, 0],\n",
    "              [0, 0, 0, 0, 0, 0, -1, -1, -1]]) \n",
    "b = np.array([-70, -40, -70, -80, -40, -60])\n",
    "\n",
    "respuesta = opt.linprog(c, A, b)"
   ]
  },
  {
   "cell_type": "code",
   "execution_count": 36,
   "metadata": {},
   "outputs": [
    {
     "data": {
      "text/plain": [
       "array([1.86808594e+01, 6.13191394e+01, 1.15982484e-07, 5.13191394e+01,\n",
       "       1.46127987e-08, 2.72031666e-08, 6.52558657e-08, 5.42912457e-08,\n",
       "       6.99999987e+01])"
      ]
     },
     "execution_count": 36,
     "metadata": {},
     "output_type": "execute_result"
    }
   ],
   "source": [
    "respuesta.x\n"
   ]
  },
  {
   "cell_type": "code",
   "execution_count": null,
   "metadata": {},
   "outputs": [],
   "source": []
  }
 ],
 "metadata": {
  "kernelspec": {
   "display_name": "Python 3 (ipykernel)",
   "language": "python",
   "name": "python3"
  },
  "language_info": {
   "codemirror_mode": {
    "name": "ipython",
    "version": 3
   },
   "file_extension": ".py",
   "mimetype": "text/x-python",
   "name": "python",
   "nbconvert_exporter": "python",
   "pygments_lexer": "ipython3",
   "version": "3.9.7"
  }
 },
 "nbformat": 4,
 "nbformat_minor": 2
}
