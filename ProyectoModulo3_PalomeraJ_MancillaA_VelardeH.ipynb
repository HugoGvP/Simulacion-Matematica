{
 "cells": [
  {
   "cell_type": "markdown",
   "id": "b8030e3d",
   "metadata": {},
   "source": [
    "# Proyecto modelo de ahorro para un viaje familiar"
   ]
  },
  {
   "cell_type": "markdown",
   "id": "08e668c2",
   "metadata": {},
   "source": [
    "- Cecilia Alejandra Mancilla Olivera\n",
    "- Jesus Emmanuel Palomera Gaytan\n",
    "- Hugo Gabriel Velarde Pérez"
   ]
  },
  {
   "cell_type": "markdown",
   "id": "3ba3643d",
   "metadata": {},
   "source": [
    "### Planteamiento del problema"
   ]
  },
  {
   "cell_type": "markdown",
   "id": "c6605943",
   "metadata": {},
   "source": [
    "En este proyecto se creará un ahorro de $150,000 para un viaje familiar, en donde el dinero se invertirá en un banco que ofrece una tasa de interés mensual del 2.4%.\n",
    "\n",
    "Se planea realizar un viaje familiar de 6 personas, que quieren visitar Suecia, la duración del viaje será de 2 semanas y cuentan con un capital inicial de $\\$50,000$ pesos para empezar a realizar el ahorro.\n",
    "La cantidad que quieren ahorrar es de $\\$150,000$, sin inversiones adicionales. ¿Cuánto tiempo se debe de dejar invertido el dinero?\n",
    "\n",
    "La familia planea invertir todo su dinero a un fondo de inversión para así disponer de más capital para su viaje.\n",
    "El Banco \"Fulanito de tal\" les ofrece una tasa de interés del $2.4\\%$ mensual."
   ]
  },
  {
   "cell_type": "markdown",
   "id": "aeca0c96",
   "metadata": {},
   "source": [
    "# Objetivos"
   ]
  },
  {
   "cell_type": "markdown",
   "id": "a35674b3",
   "metadata": {},
   "source": [
    "### Objetivo principal\n",
    "- El objetivo **principal** será ver si es posible que la familía se vaya de viaje con un capital inicial de $ 50,000 $ pesos y proponer alguna alternativa de ahorro en caso de no ser posible solo invirtiendo en el fondo de inversión.\n",
    "\n",
    "##### Objetivos secundarios\n",
    "- El **primer** objetivo secundario es poder obtener la cantidad de tiempo en meses que se debería de dejar invertido el dinero para que se vayan de viaje.\n",
    "- El **segundo** objetivo secundario es ver por cuantos meses tendrían que ahorrar y además invertir en el fondo para poder lograr irse en el tiempo deseado."
   ]
  },
  {
   "cell_type": "code",
   "execution_count": 1,
   "id": "b386c733",
   "metadata": {},
   "outputs": [],
   "source": [
    "import numpy as np\n",
    "import matplotlib.pyplot as plt\n",
    "from scipy.integrate import odeint\n",
    "from ipywidgets import *\n",
    "%matplotlib inline"
   ]
  },
  {
   "cell_type": "markdown",
   "id": "f8a82fc6",
   "metadata": {},
   "source": [
    "### Modelo que representa el problema.\n",
    "-Condiciones iniciales de acuerdo al problema "
   ]
  },
  {
   "cell_type": "code",
   "execution_count": 2,
   "id": "46772b28",
   "metadata": {},
   "outputs": [
    {
     "data": {
      "text/plain": [
       "47.0"
      ]
     },
     "execution_count": 2,
     "metadata": {},
     "output_type": "execute_result"
    }
   ],
   "source": [
    "C0  = 50000\n",
    "i   = 0.024\n",
    "Ck  = 150000\n",
    "\n",
    "k   = np.log(Ck/C0)/np.log(1+i)\n",
    "k   = np.ceil(k)\n",
    "k"
   ]
  },
  {
   "cell_type": "markdown",
   "id": "5f9e55b6",
   "metadata": {},
   "source": [
    "En caso de que la familia solo inviertan en el fondo de inversión, estarían tardando un periodo de 47 meses. "
   ]
  },
  {
   "cell_type": "markdown",
   "id": "d0e29bb3",
   "metadata": {},
   "source": [
    "### Visualización de la solución del problema"
   ]
  },
  {
   "cell_type": "code",
   "execution_count": 3,
   "id": "f1d6c450",
   "metadata": {},
   "outputs": [
    {
     "data": {
      "text/plain": [
       "152429.1284333982"
      ]
     },
     "execution_count": 3,
     "metadata": {},
     "output_type": "execute_result"
    }
   ],
   "source": [
    "C  = C0*(1+i)**k\n",
    "C"
   ]
  },
  {
   "cell_type": "markdown",
   "id": "90926bd5",
   "metadata": {},
   "source": [
    "En este periodo de 47 meses lograrían ahorrar una cantidad de 152429.1284333982."
   ]
  },
  {
   "cell_type": "markdown",
   "id": "cc8a8cce",
   "metadata": {},
   "source": [
    "Si graficamos los datos conforme el tiempo y el capital, el periodo a inversión luciría como se muestra a continuación."
   ]
  },
  {
   "cell_type": "code",
   "execution_count": 4,
   "id": "71f7b9e8",
   "metadata": {},
   "outputs": [
    {
     "data": {
      "application/vnd.jupyter.widget-view+json": {
       "model_id": "67c7c8418b0244cea7728a488140dae5",
       "version_major": 2,
       "version_minor": 0
      },
      "text/plain": [
       "interactive(children=(IntSlider(value=150000, description='Ct', max=150000, min=50000, step=10000), Output()),…"
      ]
     },
     "metadata": {},
     "output_type": "display_data"
    },
    {
     "data": {
      "text/plain": [
       "<function __main__.cap(C0, r, Ct=150000)>"
      ]
     },
     "execution_count": 4,
     "metadata": {},
     "output_type": "execute_result"
    }
   ],
   "source": [
    "def cap(C0, r, Ct=150000) :\n",
    "    t = np.log(Ct/C0)/r\n",
    "    T = np.linspace(0, t, 1000)\n",
    "    def fun(C, t, r) :\n",
    "        return r*C\n",
    "    C = odeint(fun, C0, T, args=(r,))[:, 0]\n",
    "    \n",
    "    plt.figure()\n",
    "    plt.plot(T, C)\n",
    "    plt.grid()\n",
    "    plt.xlabel(\"meses\")\n",
    "    plt.ylabel(\"MXN\")\n",
    "    \n",
    "\n",
    "i  = 0.024\n",
    "C0 = 50000\n",
    "r  = np.log(1+i)\n",
    "interact(cap, C0=fixed(50000), r=fixed(r), Ct=(50000, 150000, 10000))"
   ]
  },
  {
   "cell_type": "markdown",
   "id": "6a285811",
   "metadata": {},
   "source": [
    "Si la familia quiere irse de vacaciones antes de los 3 años y 11 meses, y planea viajar en 2 años ¿cuánto dinero debería ahorrar mensualmente?, teniendo en cuenta que su capital inicial no ha incrementado. "
   ]
  },
  {
   "cell_type": "code",
   "execution_count": 5,
   "id": "837e5fc2",
   "metadata": {},
   "outputs": [],
   "source": [
    "viaje   = 150000\n",
    "C0      = 50000\n",
    "periodo = 2\n",
    "i       = 0.024\n",
    "n       = periodo*12"
   ]
  },
  {
   "cell_type": "code",
   "execution_count": 6,
   "id": "2f3e6ea8",
   "metadata": {},
   "outputs": [],
   "source": [
    "import numpy_financial as npf"
   ]
  },
  {
   "cell_type": "code",
   "execution_count": 7,
   "id": "1492e59f",
   "metadata": {},
   "outputs": [
    {
     "data": {
      "text/plain": [
       "3032.4138539548467"
      ]
     },
     "execution_count": 7,
     "metadata": {},
     "output_type": "execute_result"
    }
   ],
   "source": [
    "A = -npf.pmt(-i, n, viaje-C0)\n",
    "A"
   ]
  },
  {
   "cell_type": "markdown",
   "id": "1da1d8c0",
   "metadata": {},
   "source": [
    "La familia tendría que ahorrar, 3033 pesos por mes durante 24 meses para poder llegar a su meta de ahorro y además dejar invertido su capital inicial en el fondo de inversión original para generar el dinero faltante."
   ]
  },
  {
   "cell_type": "markdown",
   "id": "72866cdd",
   "metadata": {},
   "source": [
    "## Solución del problema"
   ]
  },
  {
   "cell_type": "code",
   "execution_count": 8,
   "id": "485bbb19",
   "metadata": {},
   "outputs": [
    {
     "data": {
      "text/plain": [
       "161120.28573383557"
      ]
     },
     "execution_count": 8,
     "metadata": {},
     "output_type": "execute_result"
    }
   ],
   "source": [
    "3032.4138539548467*24+C0*(1+.024)**24"
   ]
  },
  {
   "cell_type": "markdown",
   "id": "fc6dc631",
   "metadata": {},
   "source": [
    "Con la inversión en el fondo y el ahorro al final de los 2 años tendrían 161120.30 pesos"
   ]
  },
  {
   "cell_type": "code",
   "execution_count": 9,
   "id": "cbf86936",
   "metadata": {},
   "outputs": [
    {
     "data": {
      "text/plain": [
       "-27222.067505083687"
      ]
     },
     "execution_count": 9,
     "metadata": {},
     "output_type": "execute_result"
    }
   ],
   "source": [
    "3032.4138539548467*24+C0-viaje"
   ]
  },
  {
   "cell_type": "markdown",
   "id": "f3ed8a8b",
   "metadata": {},
   "source": [
    "27,222.07 sería el dinero que faltaria después del ahorro y el cuál obtendriamos de la inversión."
   ]
  },
  {
   "cell_type": "markdown",
   "id": "d0fd9370",
   "metadata": {},
   "source": [
    "## Conclusiones"
   ]
  },
  {
   "cell_type": "markdown",
   "id": "d5d012f2",
   "metadata": {},
   "source": [
    "- Se puede concluir que si la familia desea viajar y de ser asi acelerar su viaje podrian ahorrar 3033 pesos mensuales aparte de su inversion y lograr su viaje en 2 años en lugar de esperar 3 años y 11 meses\n",
    "- "
   ]
  }
 ],
 "metadata": {
  "kernelspec": {
   "display_name": "Python 3 (ipykernel)",
   "language": "python",
   "name": "python3"
  },
  "language_info": {
   "codemirror_mode": {
    "name": "ipython",
    "version": 3
   },
   "file_extension": ".py",
   "mimetype": "text/x-python",
   "name": "python",
   "nbconvert_exporter": "python",
   "pygments_lexer": "ipython3",
   "version": "3.9.7"
  }
 },
 "nbformat": 4,
 "nbformat_minor": 5
}
